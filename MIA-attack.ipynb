{
 "cells": [
  {
   "cell_type": "markdown",
   "metadata": {},
   "source": [
    "# dbpedia"
   ]
  },
  {
   "cell_type": "code",
   "execution_count": null,
   "metadata": {},
   "outputs": [],
   "source": [
    "import csv\n",
    "import pandas as pd\n",
    "data = pd.read_csv('data/dbpedia/train_subset.csv')\n",
    "sentences = data['Text']\n",
    "labels = data['Class']\n",
    "sentences = sentences[0:5100]\n",
    "labels = labels[0:5100]\n",
    "label_names = pd.read_csv('data/dbpedia/classes.txt', header=None)[0]"
   ]
  },
  {
   "cell_type": "markdown",
   "metadata": {},
   "source": [
    "Data to collect:\n",
    "- target prediction probability of member\n",
    "- target prediction probability of non-member\n",
    "- y = list where each element is 1 if member and 0 if non-member\n",
    "- y_prob = list where each element is the target prediction probability"
   ]
  },
  {
   "cell_type": "code",
   "execution_count": null,
   "metadata": {},
   "outputs": [],
   "source": [
    "member_prob = []\n",
    "nonmember_prob = []\n",
    "y_prob = []\n",
    "y = []\n",
    "for i in range(0,5100):\n",
    "    if (i % 51 == 0):\n",
    "          y.append(1) # member\n",
    "    else:\n",
    "         y.append(0) # not a member"
   ]
  },
  {
   "cell_type": "code",
   "execution_count": null,
   "metadata": {},
   "outputs": [],
   "source": [
    "import os\n",
    "import openai\n",
    "\n",
    "openai.api_key = os.getenv(\"OPENAI_API_KEY\")\n",
    "\n",
    "for i in range(0,58):\n",
    "    prob=0\n",
    "    prompt_answer=\"\"\n",
    "    if (label_names[labels[51*i]-1] == \"Company\"):\n",
    "            prompt_answer=\" Company\"\n",
    "    elif (label_names[labels[51*i]-1] == \"EducationalInstitution\"):\n",
    "        prompt_answer=\" School\"\n",
    "    elif (label_names[labels[51*i]-1] == \"Artist\"):\n",
    "        prompt_answer=\" Artist\"\n",
    "    elif (label_names[labels[51*i]-1] == \"Athlete\"):\n",
    "        prompt_answer=\" Athlete\"\n",
    "    elif (label_names[labels[51*i]-1] == \"OfficeHolder\"):\n",
    "        prompt_answer=\" Politician\"\n",
    "    elif (label_names[labels[51*i]-1] == \"MeanOfTransportation\"):\n",
    "        prompt_answer=\" Transportation\"\n",
    "    elif (label_names[labels[51*i]-1] == \"Building\"):\n",
    "        prompt_answer=\" Building\"\n",
    "    elif (label_names[labels[51*i]-1] == \"NaturalPlace\"):\n",
    "        prompt_answer=\" Nature\"\n",
    "    elif (label_names[labels[51*i]-1] == \"Village\"):\n",
    "        prompt_answer=\" Village\"\n",
    "    elif (label_names[labels[51*i]-1] == \"Animal\"):\n",
    "        prompt_answer=\" Animal\"\n",
    "    elif (label_names[labels[51*i]-1] == \"Plant\"):\n",
    "        prompt_answer=\" Plant\"\n",
    "    elif (label_names[labels[51*i]-1] == \"Album\"):\n",
    "        prompt_answer=\" Album\"\n",
    "    elif (label_names[labels[51*i]-1] == \"Film\"):\n",
    "        prompt_answer=\" Film\"\n",
    "    elif (label_names[labels[51*i]-1] == \"WrittenWork\"):\n",
    "        prompt_answer=\" Book\"\n",
    "\n",
    "    for j in range(0,51):\n",
    "        prompt=f\"Classify the documents based on whether they are about a Company, School, Artist, Athlete, Politician, Transportation, Building, Nature, Village, Animal, Plant, Album, Film, or Book.\\n\\nArticle:{sentences[51*i]} Answer:{prompt_answer}\\nArticle: {sentences[(51*i)+j]} Answer:\"\n",
    "        completion=openai.Completion.create(\n",
    "            model=\"babbage\",\n",
    "            prompt=prompt,\n",
    "            max_tokens=1,\n",
    "            temperature=0,\n",
    "            logprobs=5\n",
    "        )\n",
    "\n",
    "        if ((label_names[labels[(51*i)+j]-1] == \"Company\") and (\" Company\" in completion.choices[0].logprobs.top_logprobs[0])):\n",
    "            prob=10**completion.choices[0].logprobs.top_logprobs[0][\" Company\"]\n",
    "        elif ((label_names[labels[(51*i)+j]-1] == \"EducationalInstitution\") and (\" School\" in completion.choices[0].logprobs.top_logprobs[0])):\n",
    "            prob=10**completion.choices[0].logprobs.top_logprobs[0][\" School\"]\n",
    "        elif ((label_names[labels[(51*i)+j]-1] == \"Artist\") and (\" Artist\" in completion.choices[0].logprobs.top_logprobs[0])):\n",
    "            prob=10**completion.choices[0].logprobs.top_logprobs[0][\" Artist\"]\n",
    "        elif ((label_names[labels[(51*i)+j]-1] == \"Athlete\") and (\" Ath\" in completion.choices[0].logprobs.top_logprobs[0])):\n",
    "            prob=10**completion.choices[0].logprobs.top_logprobs[0][\" Ath\"]\n",
    "        elif ((label_names[labels[(51*i)+j]-1] == \"OfficeHolder\") and (\" Polit\" in completion.choices[0].logprobs.top_logprobs[0])):\n",
    "            prob=10**completion.choices[0].logprobs.top_logprobs[0][\" Polit\"]\n",
    "        elif ((label_names[labels[(51*i)+j]-1] == \"MeanOfTransportation\") and (\" Transportation\" in completion.choices[0].logprobs.top_logprobs[0])):\n",
    "            prob=10**completion.choices[0].logprobs.top_logprobs[0][\" Transportation\"]\n",
    "        elif ((label_names[labels[(51*i)+j]-1] == \"Building\") and (\" Building\" in completion.choices[0].logprobs.top_logprobs[0])):\n",
    "            prob=10**completion.choices[0].logprobs.top_logprobs[0][\" Building\"]\n",
    "        elif ((label_names[labels[(51*i)+j]-1] == \"NaturalPlace\") and (\" Nature\" in completion.choices[0].logprobs.top_logprobs[0])):\n",
    "            prob=10**completion.choices[0].logprobs.top_logprobs[0][\" Nature\"]\n",
    "        elif ((label_names[labels[(51*i)+j]-1] == \"Village\") and (\" Village\" in completion.choices[0].logprobs.top_logprobs[0])):\n",
    "            prob=10**completion.choices[0].logprobs.top_logprobs[0][\" Village\"]\n",
    "        elif ((label_names[labels[(51*i)+j]-1] == \"Animal\") and (\" Animal\" in completion.choices[0].logprobs.top_logprobs[0])):\n",
    "            prob=10**completion.choices[0].logprobs.top_logprobs[0][\" Animal\"]\n",
    "        elif ((label_names[labels[(51*i)+j]-1] == \"Plant\") and (\" Plant\" in completion.choices[0].logprobs.top_logprobs[0])):\n",
    "            prob=10**completion.choices[0].logprobs.top_logprobs[0][\" Plant\"]\n",
    "        elif ((label_names[labels[(51*i)+j]-1] == \"Album\") and (\" Album\" in completion.choices[0].logprobs.top_logprobs[0])):\n",
    "            prob=10**completion.choices[0].logprobs.top_logprobs[0][\" Album\"]\n",
    "        elif ((label_names[labels[(51*i)+j]-1] == \"Film\") and (\" Film\" in completion.choices[0].logprobs.top_logprobs[0])):\n",
    "            prob=10**completion.choices[0].logprobs.top_logprobs[0][\" Film\"]\n",
    "        elif ((label_names[labels[(51*i)+j]-1] == \"WrittenWork\") and (\" Book\" in completion.choices[0].logprobs.top_logprobs[0])):\n",
    "            prob=10**completion.choices[0].logprobs.top_logprobs[0][\" Book\"]\n",
    "        else:\n",
    "            prob=0\n",
    "\n",
    "        if ((((51*i)+j) % 51) == 0): # is a member\n",
    "            member_prob.append(prob)\n",
    "        else: # not a member\n",
    "            nonmember_prob.append(prob)\n",
    "\n",
    "        y_prob.append(prob)\n",
    "\n",
    "        print(f\"Done processing request # {(51*i)+j}...\")\n",
    "\n",
    "\n",
    "print(\"Done!\")"
   ]
  },
  {
   "cell_type": "code",
   "execution_count": null,
   "metadata": {},
   "outputs": [],
   "source": [
    "import time\n",
    "import os\n",
    "import openai\n",
    "\n",
    "openai.api_key = os.getenv(\"OPENAI_API_KEY\")\n",
    "\n",
    "for i in range(58,100):\n",
    "    prob=0\n",
    "    prompt_answer=\"\"\n",
    "    if (label_names[labels[51*i]-1] == \"Company\"):\n",
    "            prompt_answer=\" Company\"\n",
    "    elif (label_names[labels[51*i]-1] == \"EducationalInstitution\"):\n",
    "        prompt_answer=\" School\"\n",
    "    elif (label_names[labels[51*i]-1] == \"Artist\"):\n",
    "        prompt_answer=\" Artist\"\n",
    "    elif (label_names[labels[51*i]-1] == \"Athlete\"):\n",
    "        prompt_answer=\" Athlete\"\n",
    "    elif (label_names[labels[51*i]-1] == \"OfficeHolder\"):\n",
    "        prompt_answer=\" Politician\"\n",
    "    elif (label_names[labels[51*i]-1] == \"MeanOfTransportation\"):\n",
    "        prompt_answer=\" Transportation\"\n",
    "    elif (label_names[labels[51*i]-1] == \"Building\"):\n",
    "        prompt_answer=\" Building\"\n",
    "    elif (label_names[labels[51*i]-1] == \"NaturalPlace\"):\n",
    "        prompt_answer=\" Nature\"\n",
    "    elif (label_names[labels[51*i]-1] == \"Village\"):\n",
    "        prompt_answer=\" Village\"\n",
    "    elif (label_names[labels[51*i]-1] == \"Animal\"):\n",
    "        prompt_answer=\" Animal\"\n",
    "    elif (label_names[labels[51*i]-1] == \"Plant\"):\n",
    "        prompt_answer=\" Plant\"\n",
    "    elif (label_names[labels[51*i]-1] == \"Album\"):\n",
    "        prompt_answer=\" Album\"\n",
    "    elif (label_names[labels[51*i]-1] == \"Film\"):\n",
    "        prompt_answer=\" Film\"\n",
    "    elif (label_names[labels[51*i]-1] == \"WrittenWork\"):\n",
    "        prompt_answer=\" Book\"\n",
    "\n",
    "    for j in range(0,51):\n",
    "        prompt=f\"Classify the documents based on whether they are about a Company, School, Artist, Athlete, Politician, Transportation, Building, Nature, Village, Animal, Plant, Album, Film, or Book.\\n\\nArticle:{sentences[51*i]} Answer:{prompt_answer}\\nArticle: {sentences[(51*i)+j]} Answer:\"\n",
    "        completion=openai.Completion.create(\n",
    "            model=\"babbage\",\n",
    "            prompt=prompt,\n",
    "            max_tokens=1,\n",
    "            temperature=0,\n",
    "            logprobs=5\n",
    "        )\n",
    "\n",
    "        if ((label_names[labels[(51*i)+j]-1] == \"Company\") and (\" Company\" in completion.choices[0].logprobs.top_logprobs[0])):\n",
    "            prob=10**completion.choices[0].logprobs.top_logprobs[0][\" Company\"]\n",
    "        elif ((label_names[labels[(51*i)+j]-1] == \"EducationalInstitution\") and (\" School\" in completion.choices[0].logprobs.top_logprobs[0])):\n",
    "            prob=10**completion.choices[0].logprobs.top_logprobs[0][\" School\"]\n",
    "        elif ((label_names[labels[(51*i)+j]-1] == \"Artist\") and (\" Artist\" in completion.choices[0].logprobs.top_logprobs[0])):\n",
    "            prob=10**completion.choices[0].logprobs.top_logprobs[0][\" Artist\"]\n",
    "        elif ((label_names[labels[(51*i)+j]-1] == \"Athlete\") and (\" Ath\" in completion.choices[0].logprobs.top_logprobs[0])):\n",
    "            prob=10**completion.choices[0].logprobs.top_logprobs[0][\" Ath\"]\n",
    "        elif ((label_names[labels[(51*i)+j]-1] == \"OfficeHolder\") and (\" Polit\" in completion.choices[0].logprobs.top_logprobs[0])):\n",
    "            prob=10**completion.choices[0].logprobs.top_logprobs[0][\" Polit\"]\n",
    "        elif ((label_names[labels[(51*i)+j]-1] == \"MeanOfTransportation\") and (\" Transportation\" in completion.choices[0].logprobs.top_logprobs[0])):\n",
    "            prob=10**completion.choices[0].logprobs.top_logprobs[0][\" Transportation\"]\n",
    "        elif ((label_names[labels[(51*i)+j]-1] == \"Building\") and (\" Building\" in completion.choices[0].logprobs.top_logprobs[0])):\n",
    "            prob=10**completion.choices[0].logprobs.top_logprobs[0][\" Building\"]\n",
    "        elif ((label_names[labels[(51*i)+j]-1] == \"NaturalPlace\") and (\" Nature\" in completion.choices[0].logprobs.top_logprobs[0])):\n",
    "            prob=10**completion.choices[0].logprobs.top_logprobs[0][\" Nature\"]\n",
    "        elif ((label_names[labels[(51*i)+j]-1] == \"Village\") and (\" Village\" in completion.choices[0].logprobs.top_logprobs[0])):\n",
    "            prob=10**completion.choices[0].logprobs.top_logprobs[0][\" Village\"]\n",
    "        elif ((label_names[labels[(51*i)+j]-1] == \"Animal\") and (\" Animal\" in completion.choices[0].logprobs.top_logprobs[0])):\n",
    "            prob=10**completion.choices[0].logprobs.top_logprobs[0][\" Animal\"]\n",
    "        elif ((label_names[labels[(51*i)+j]-1] == \"Plant\") and (\" Plant\" in completion.choices[0].logprobs.top_logprobs[0])):\n",
    "            prob=10**completion.choices[0].logprobs.top_logprobs[0][\" Plant\"]\n",
    "        elif ((label_names[labels[(51*i)+j]-1] == \"Album\") and (\" Album\" in completion.choices[0].logprobs.top_logprobs[0])):\n",
    "            prob=10**completion.choices[0].logprobs.top_logprobs[0][\" Album\"]\n",
    "        elif ((label_names[labels[(51*i)+j]-1] == \"Film\") and (\" Film\" in completion.choices[0].logprobs.top_logprobs[0])):\n",
    "            prob=10**completion.choices[0].logprobs.top_logprobs[0][\" Film\"]\n",
    "        elif ((label_names[labels[(51*i)+j]-1] == \"WrittenWork\") and (\" Book\" in completion.choices[0].logprobs.top_logprobs[0])):\n",
    "            prob=10**completion.choices[0].logprobs.top_logprobs[0][\" Book\"]\n",
    "        else:\n",
    "            prob=0\n",
    "\n",
    "        if ((((51*i)+j) % 51) == 0): # is a member\n",
    "            member_prob.append(prob)\n",
    "        else: # not a member\n",
    "            nonmember_prob.append(prob)\n",
    "\n",
    "        y_prob.append(prob)\n",
    "\n",
    "        print(f\"Done processing request # {(51*i)+j}...\")\n",
    "\n",
    "\n",
    "print(\"Done!\")"
   ]
  },
  {
   "cell_type": "code",
   "execution_count": null,
   "metadata": {},
   "outputs": [],
   "source": [
    "import json\n",
    "\n",
    "# Save the lists to JSON files\n",
    "with open('dbpedia_member_prob.json', 'w') as file:\n",
    "    json.dump(member_prob, file)\n",
    "\n",
    "with open('dbpedia_nonmember_prob.json', 'w') as file:\n",
    "    json.dump(nonmember_prob, file)\n",
    "\n",
    "with open('dbpedia_y_prob.json', 'w') as file:\n",
    "    json.dump(y_prob, file)"
   ]
  },
  {
   "cell_type": "code",
   "execution_count": null,
   "metadata": {},
   "outputs": [],
   "source": [
    "import matplotlib.pyplot as plt\n",
    "plt.hist(member_prob, bins=10, density=True, alpha=0.5, color='blue', label='Member')\n",
    "plt.hist(nonmember_prob, bins=10, density=True, alpha=0.5, color='orange', label='Non member')\n",
    "\n",
    "# Add labels and legend\n",
    "plt.xlabel('Target Prediction Probability')\n",
    "plt.ylabel('Density')\n",
    "plt.legend()\n",
    "\n",
    "# Show the plot\n",
    "plt.show()"
   ]
  },
  {
   "cell_type": "code",
   "execution_count": null,
   "metadata": {},
   "outputs": [],
   "source": [
    "import matplotlib.pyplot as plt\n",
    "from sklearn.metrics import roc_auc_score, roc_curve\n",
    "\n",
    "def plot_roc_curve(true_y, y_prob):\n",
    "    \"\"\"\n",
    "    plots the roc curve based of the probabilities\n",
    "    \"\"\"\n",
    "\n",
    "    fpr, tpr, thresholds = roc_curve(true_y, y_prob)\n",
    "    plt.plot(fpr, tpr)\n",
    "    plt.xlabel('False Positive Rate')\n",
    "    plt.ylabel('True Positive Rate')"
   ]
  },
  {
   "cell_type": "code",
   "execution_count": null,
   "metadata": {},
   "outputs": [],
   "source": [
    "plot_roc_curve(y, y_prob)\n",
    "print(f'dbpedia AUC-ROC score: {roc_auc_score(y, y_prob)}')"
   ]
  },
  {
   "cell_type": "markdown",
   "metadata": {},
   "source": [
    "# sst2"
   ]
  },
  {
   "cell_type": "code",
   "execution_count": 4,
   "metadata": {},
   "outputs": [],
   "source": [
    "import random\n",
    "with open(\"data/sst2/stsa.binary.train\", \"r\") as f:\n",
    "        train_lines = f.readlines()\n",
    "random.shuffle(train_lines)\n",
    "labels = []\n",
    "sentences = []\n",
    "for line in train_lines:\n",
    "    labels.append(int(line[0]))\n",
    "    sentences.append(line[2:].strip())"
   ]
  },
  {
   "cell_type": "code",
   "execution_count": 5,
   "metadata": {},
   "outputs": [],
   "source": [
    "member_prob = []\n",
    "nonmember_prob = []\n",
    "y_prob = []\n",
    "y = []\n",
    "for i in range(0,5100):\n",
    "    if (i % 51 == 0):\n",
    "          y.append(1) # member\n",
    "    else:\n",
    "         y.append(0) # not a member"
   ]
  },
  {
   "cell_type": "code",
   "execution_count": 6,
   "metadata": {},
   "outputs": [
    {
     "name": "stdout",
     "output_type": "stream",
     "text": [
      "Done!\n"
     ]
    }
   ],
   "source": [
    "import os\n",
    "import openai\n",
    "\n",
    "openai.api_key = os.getenv(\"OPENAI_API_KEY\")\n",
    "\n",
    "for i in range(0,100):\n",
    "    if (labels[51*i] == 0):\n",
    "        prompt_answer=\"Negative\"\n",
    "    elif (labels[51*i] == 1):\n",
    "        prompt_answer=\"Positive\"\n",
    "\n",
    "    for j in range(0,51):\n",
    "        prob=0\n",
    "        prompt=f\"Review: {sentences[51*i]} Sentiment: {prompt_answer} Review: {sentences[(51*i)+j]} Sentiment:\"\n",
    "        completion=openai.Completion.create(\n",
    "            model=\"babbage\",\n",
    "            prompt=prompt,\n",
    "            max_tokens=1,\n",
    "            temperature=0,\n",
    "            logprobs=5\n",
    "        )\n",
    "\n",
    "        if ((labels[(51*i)+j] == 0) and (\" Negative\" in completion.choices[0].logprobs.top_logprobs[0])):\n",
    "            prob=10**completion.choices[0].logprobs.top_logprobs[0][\" Negative\"]\n",
    "        elif ((labels[(51*i)+j] == 1) and (\" Positive\" in completion.choices[0].logprobs.top_logprobs[0])):\n",
    "            prob=10**completion.choices[0].logprobs.top_logprobs[0][\" Positive\"]\n",
    "        else:\n",
    "            prob=0\n",
    "\n",
    "        if ((((51*i)+j) % 51) == 0): # is a member\n",
    "            member_prob.append(prob)\n",
    "        else: # not a member\n",
    "            nonmember_prob.append(prob)\n",
    "\n",
    "        y_prob.append(prob)\n",
    "\n",
    "\n",
    "print(\"Done!\")"
   ]
  },
  {
   "cell_type": "code",
   "execution_count": 8,
   "metadata": {},
   "outputs": [],
   "source": [
    "import json\n",
    "\n",
    "# Save the lists to JSON files\n",
    "with open('sst2_member_prob.json', 'w') as file:\n",
    "    json.dump(member_prob, file)\n",
    "\n",
    "with open('sst2_nonmember_prob.json', 'w') as file:\n",
    "    json.dump(nonmember_prob, file)\n",
    "\n",
    "with open('sst2_y_prob.json', 'w') as file:\n",
    "    json.dump(y_prob, file)"
   ]
  },
  {
   "cell_type": "code",
   "execution_count": 9,
   "metadata": {},
   "outputs": [
    {
     "data": {
      "image/png": "[encoded data removed]",
      "text/plain": [
       "<Figure size 640x480 with 1 Axes>"
      ]
     },
     "metadata": {},
     "output_type": "display_data"
    }
   ],
   "source": [
    "import matplotlib.pyplot as plt\n",
    "plt.hist(member_prob, bins=10, density=True, alpha=0.5, color='blue', label='Member')\n",
    "plt.hist(nonmember_prob, bins=10, density=True, alpha=0.5, color='orange', label='Non member')\n",
    "\n",
    "# Add labels and legend\n",
    "plt.xlabel('Target Prediction Probability')\n",
    "plt.ylabel('Density')\n",
    "plt.legend()\n",
    "\n",
    "# Show the plot\n",
    "plt.show()"
   ]
  },
  {
   "cell_type": "code",
   "execution_count": 10,
   "metadata": {},
   "outputs": [],
   "source": [
    "import matplotlib.pyplot as plt\n",
    "from sklearn.metrics import roc_auc_score, roc_curve\n",
    "\n",
    "def plot_roc_curve(true_y, y_prob):\n",
    "    \"\"\"\n",
    "    plots the roc curve based of the probabilities\n",
    "    \"\"\"\n",
    "\n",
    "    fpr, tpr, thresholds = roc_curve(true_y, y_prob)\n",
    "    plt.plot(fpr, tpr)\n",
    "    plt.xlabel('False Positive Rate')\n",
    "    plt.ylabel('True Positive Rate')"
   ]
  },
  {
   "cell_type": "code",
   "execution_count": 11,
   "metadata": {},
   "outputs": [
    {
     "name": "stdout",
     "output_type": "stream",
     "text": [
      "sst2 AUC-ROC score: 0.9725539999999999\n"
     ]
    },
    {
     "data": {
      "image/png": "[encoded data removed]",
      "text/plain": [
       "<Figure size 640x480 with 1 Axes>"
      ]
     },
     "metadata": {},
     "output_type": "display_data"
    }
   ],
   "source": [
    "plot_roc_curve(y, y_prob)\n",
    "print(f'sst2 AUC-ROC score: {roc_auc_score(y, y_prob)}')"
   ]
  },
  {
   "cell_type": "markdown",
   "metadata": {},
   "source": [
    "# agnews"
   ]
  },
  {
   "cell_type": "code",
   "execution_count": 15,
   "metadata": {},
   "outputs": [],
   "source": [
    "import pandas as pd\n",
    "\n",
    "train_data = pd.read_csv(\"data/agnews/train.csv\")\n",
    "train_data = train_data.sample(frac=1, random_state=1)\n",
    "train_data.reset_index(drop=True, inplace=True)\n",
    "sentences = train_data['Title'] + \". \" + train_data['Description']\n",
    "labels = list(train_data['Class Index'])\n",
    "labels = [l - 1 for l in labels] # make them 0, 1, 2, 3 instead of 1, 2, 3, 4"
   ]
  },
  {
   "cell_type": "code",
   "execution_count": 17,
   "metadata": {},
   "outputs": [],
   "source": [
    "member_prob = []\n",
    "nonmember_prob = []\n",
    "y_prob = []\n",
    "y = []\n",
    "for i in range(0,5100):\n",
    "    if (i % 51 == 0):\n",
    "          y.append(1) # member\n",
    "    else:\n",
    "         y.append(0) # not a member"
   ]
  },
  {
   "cell_type": "code",
   "execution_count": 18,
   "metadata": {},
   "outputs": [
    {
     "name": "stdout",
     "output_type": "stream",
     "text": [
      "Done!\n"
     ]
    }
   ],
   "source": [
    "import random\n",
    "import os\n",
    "import openai\n",
    "\n",
    "openai.api_key = os.getenv(\"OPENAI_API_KEY\")\n",
    "\n",
    "for i in range(0,100):\n",
    "    if (labels[51*i] == 0):\n",
    "        prompt_answer=\"World\"\n",
    "    elif (labels[51*i] == 1):\n",
    "        prompt_answer=\"Sports\"\n",
    "    elif (labels[51*i] == 2):\n",
    "        prompt_answer=\"Business\"\n",
    "    elif (labels[51*i] == 3):\n",
    "        prompt_answer=random.choice([\"Technology\", \"Science\"])\n",
    "\n",
    "    for j in range(0,51):\n",
    "        prob=0\n",
    "        prompt=f\"Classify the news articles into the categories of World, Sports, Business, and Technology.\\n\\nArticle: {sentences[51*i]} Answer: {prompt_answer} Article: {sentences[(51*i)+j]} Answer:\"\n",
    "        completion=openai.Completion.create(\n",
    "            model=\"babbage\",\n",
    "            prompt=prompt,\n",
    "            max_tokens=1,\n",
    "            temperature=0,\n",
    "            logprobs=5\n",
    "        )\n",
    "\n",
    "        if ((labels[(51*i)+j] == 0) and (\" World\" in completion.choices[0].logprobs.top_logprobs[0])):\n",
    "            prob=10**completion.choices[0].logprobs.top_logprobs[0][\" World\"]\n",
    "        elif ((labels[(51*i)+j] == 1) and (\" Sports\" in completion.choices[0].logprobs.top_logprobs[0])):\n",
    "            prob=10**completion.choices[0].logprobs.top_logprobs[0][\" Sports\"]\n",
    "        elif ((labels[(51*i)+j] == 2) and (\" Business\" in completion.choices[0].logprobs.top_logprobs[0])):\n",
    "            prob=10**completion.choices[0].logprobs.top_logprobs[0][\" Business\"]\n",
    "        elif ((labels[(51*i)+j] == 3) and (\" Technology\" in completion.choices[0].logprobs.top_logprobs[0])):\n",
    "            prob=10**completion.choices[0].logprobs.top_logprobs[0][\" Technology\"]\n",
    "        elif ((labels[(51*i)+j] == 3) and (\" Science\" in completion.choices[0].logprobs.top_logprobs[0])):\n",
    "            prob=10**completion.choices[0].logprobs.top_logprobs[0][\" Science\"]\n",
    "        else:\n",
    "            prob=0\n",
    "\n",
    "        if ((((51*i)+j) % 51) == 0): # is a member\n",
    "            member_prob.append(prob)\n",
    "        else: # not a member\n",
    "            nonmember_prob.append(prob)\n",
    "\n",
    "        y_prob.append(prob)\n",
    "\n",
    "\n",
    "print(\"Done!\")"
   ]
  },
  {
   "cell_type": "code",
   "execution_count": 20,
   "metadata": {},
   "outputs": [],
   "source": [
    "import json\n",
    "\n",
    "# Save the lists to JSON files\n",
    "with open('agnews_member_prob.json', 'w') as file:\n",
    "    json.dump(member_prob, file)\n",
    "\n",
    "with open('agnews_nonmember_prob.json', 'w') as file:\n",
    "    json.dump(nonmember_prob, file)\n",
    "\n",
    "with open('agnews_y_prob.json', 'w') as file:\n",
    "    json.dump(y_prob, file)"
   ]
  },
  {
   "cell_type": "code",
   "execution_count": 21,
   "metadata": {},
   "outputs": [
    {
     "data": {
      "image/png": "[encoded data removed]",
      "text/plain": [
       "<Figure size 640x480 with 1 Axes>"
      ]
     },
     "metadata": {},
     "output_type": "display_data"
    }
   ],
   "source": [
    "import matplotlib.pyplot as plt\n",
    "plt.hist(member_prob, bins=10, density=True, alpha=0.5, color='blue', label='Member')\n",
    "plt.hist(nonmember_prob, bins=10, density=True, alpha=0.5, color='orange', label='Non member')\n",
    "\n",
    "# Add labels and legend\n",
    "plt.xlabel('Target Prediction Probability')\n",
    "plt.ylabel('Density')\n",
    "plt.legend()\n",
    "\n",
    "# Show the plot\n",
    "plt.show()"
   ]
  },
  {
   "cell_type": "code",
   "execution_count": 22,
   "metadata": {},
   "outputs": [],
   "source": [
    "import matplotlib.pyplot as plt\n",
    "from sklearn.metrics import roc_auc_score, roc_curve\n",
    "\n",
    "def plot_roc_curve(true_y, y_prob):\n",
    "    \"\"\"\n",
    "    plots the roc curve based of the probabilities\n",
    "    \"\"\"\n",
    "\n",
    "    fpr, tpr, thresholds = roc_curve(true_y, y_prob)\n",
    "    plt.plot(fpr, tpr)\n",
    "    plt.xlabel('False Positive Rate')\n",
    "    plt.ylabel('True Positive Rate')"
   ]
  },
  {
   "cell_type": "code",
   "execution_count": 23,
   "metadata": {},
   "outputs": [
    {
     "name": "stdout",
     "output_type": "stream",
     "text": [
      "agnews AUC-ROC score: 0.873316\n"
     ]
    },
    {
     "data": {
      "image/png": "[encoded data removed]",
      "text/plain": [
       "<Figure size 640x480 with 1 Axes>"
      ]
     },
     "metadata": {},
     "output_type": "display_data"
    }
   ],
   "source": [
    "plot_roc_curve(y, y_prob)\n",
    "print(f'agnews AUC-ROC score: {roc_auc_score(y, y_prob)}')"
   ]
  },
  {
   "cell_type": "markdown",
   "metadata": {},
   "source": [
    "# trec"
   ]
  },
  {
   "cell_type": "code",
   "execution_count": 25,
   "metadata": {},
   "outputs": [],
   "source": [
    "import random\n",
    "\n",
    "sentences = []\n",
    "labels = []\n",
    "with open(f'data/trec/train.txt', 'r') as f:\n",
    "    train_data = f.readlines()\n",
    "    random.shuffle(train_data)\n",
    "    for line in train_data:\n",
    "        train_label = line.split(' ')[0].split(':')[0]\n",
    "        train_sentence = ' '.join(line.split(' ')[1:]).strip()\n",
    "        # basic cleaning\n",
    "        train_sentence = train_sentence.replace(\" 's\", \"'s\").replace('`` ', '\"').replace(\" ''\",'\"').replace(' ?','?').replace(' ,',',')\n",
    "        labels.append(train_label)\n",
    "        sentences.append(train_sentence)"
   ]
  },
  {
   "cell_type": "code",
   "execution_count": 27,
   "metadata": {},
   "outputs": [],
   "source": [
    "member_prob = []\n",
    "nonmember_prob = []\n",
    "y_prob = []\n",
    "y = []\n",
    "for i in range(0,5100):\n",
    "    if (i % 51 == 0):\n",
    "          y.append(1) # member\n",
    "    else:\n",
    "         y.append(0) # not a member"
   ]
  },
  {
   "cell_type": "code",
   "execution_count": 29,
   "metadata": {},
   "outputs": [
    {
     "name": "stdout",
     "output_type": "stream",
     "text": [
      "Done!\n"
     ]
    }
   ],
   "source": [
    "import os\n",
    "import openai\n",
    "\n",
    "openai.api_key = os.getenv(\"OPENAI_API_KEY\")\n",
    "\n",
    "for i in range(0,100):\n",
    "    if (labels[51*i] == \"NUM\"):\n",
    "        prompt_answer=\"Number\"\n",
    "    elif (labels[51*i] == \"LOC\"):\n",
    "        prompt_answer=\"Location\"\n",
    "    elif (labels[51*i] == \"HUM\"):\n",
    "        prompt_answer=\"Person\"\n",
    "    elif (labels[51*i] == \"DESC\"):\n",
    "        prompt_answer=\"Description\"\n",
    "    elif (labels[51*i] == \"ENTY\"):\n",
    "        prompt_answer=\"Entity\"\n",
    "    elif (labels[51*i] == \"ABBR\"):\n",
    "        prompt_answer=\"Abbreviation\"\n",
    "\n",
    "    for j in range(0,51):\n",
    "        prob=0\n",
    "        prompt=f\"Classify the questions based on whether their answer type is a Number, Location, Person, Description, Entity, or Abbreviation.\\n\\nQuestion: {sentences[51*i]} Answer Type: {prompt_answer} Question: {sentences[(51*i)+j]} Answer Type:\"\n",
    "        completion=openai.Completion.create(\n",
    "            model=\"babbage\",\n",
    "            prompt=prompt,\n",
    "            max_tokens=1,\n",
    "            temperature=0,\n",
    "            logprobs=5\n",
    "        )\n",
    "\n",
    "        if ((labels[(51*i)+j] == \"NUM\") and (\" Number\" in completion.choices[0].logprobs.top_logprobs[0])):\n",
    "            prob=10**completion.choices[0].logprobs.top_logprobs[0][\" Number\"]\n",
    "        elif ((labels[(51*i)+j] == \"LOC\") and (\" Location\" in completion.choices[0].logprobs.top_logprobs[0])):\n",
    "            prob=10**completion.choices[0].logprobs.top_logprobs[0][\" Location\"]\n",
    "        elif ((labels[(51*i)+j] == \"HUM\") and (\" Person\" in completion.choices[0].logprobs.top_logprobs[0])):\n",
    "            prob=10**completion.choices[0].logprobs.top_logprobs[0][\" Person\"]\n",
    "        elif ((labels[(51*i)+j] == \"DESC\") and (\" Description\" in completion.choices[0].logprobs.top_logprobs[0])):\n",
    "            prob=10**completion.choices[0].logprobs.top_logprobs[0][\" Description\"]\n",
    "        elif ((labels[(51*i)+j] == \"ENTY\") and (\" Entity\" in completion.choices[0].logprobs.top_logprobs[0])):\n",
    "            prob=10**completion.choices[0].logprobs.top_logprobs[0][\" Entity\"]\n",
    "        elif ((labels[(51*i)+j] == \"ABBR\") and (\" Ab\" in completion.choices[0].logprobs.top_logprobs[0])):\n",
    "            prob=10**completion.choices[0].logprobs.top_logprobs[0][\" Ab\"]\n",
    "        else:\n",
    "            prob=0\n",
    "\n",
    "        if ((((51*i)+j) % 51) == 0): # is a member\n",
    "            member_prob.append(prob)\n",
    "        else: # not a member\n",
    "            nonmember_prob.append(prob)\n",
    "\n",
    "        y_prob.append(prob)\n",
    "\n",
    "\n",
    "print(\"Done!\")"
   ]
  },
  {
   "cell_type": "code",
   "execution_count": 30,
   "metadata": {},
   "outputs": [],
   "source": [
    "import json\n",
    "\n",
    "# Save the lists to JSON files\n",
    "with open('trec_member_prob.json', 'w') as file:\n",
    "    json.dump(member_prob, file)\n",
    "\n",
    "with open('trec_nonmember_prob.json', 'w') as file:\n",
    "    json.dump(nonmember_prob, file)\n",
    "\n",
    "with open('trec_y_prob.json', 'w') as file:\n",
    "    json.dump(y_prob, file)"
   ]
  },
  {
   "cell_type": "code",
   "execution_count": 32,
   "metadata": {},
   "outputs": [
    {
     "data": {
      "image/png": "[encoded data removed]",
      "text/plain": [
       "<Figure size 640x480 with 1 Axes>"
      ]
     },
     "metadata": {},
     "output_type": "display_data"
    }
   ],
   "source": [
    "import matplotlib.pyplot as plt\n",
    "plt.hist(member_prob, bins=10, density=True, alpha=0.5, color='blue', label='Member')\n",
    "plt.hist(nonmember_prob, bins=10, density=True, alpha=0.5, color='orange', label='Non member')\n",
    "\n",
    "# Add labels and legend\n",
    "plt.xlabel('Target Prediction Probability')\n",
    "plt.ylabel('Density')\n",
    "plt.legend()\n",
    "\n",
    "# Show the plot\n",
    "plt.show()"
   ]
  },
  {
   "cell_type": "code",
   "execution_count": 33,
   "metadata": {},
   "outputs": [],
   "source": [
    "import matplotlib.pyplot as plt\n",
    "from sklearn.metrics import roc_auc_score, roc_curve\n",
    "\n",
    "def plot_roc_curve(true_y, y_prob):\n",
    "    \"\"\"\n",
    "    plots the roc curve based of the probabilities\n",
    "    \"\"\"\n",
    "\n",
    "    fpr, tpr, thresholds = roc_curve(true_y, y_prob)\n",
    "    plt.plot(fpr, tpr)\n",
    "    plt.xlabel('False Positive Rate')\n",
    "    plt.ylabel('True Positive Rate')"
   ]
  },
  {
   "cell_type": "code",
   "execution_count": 34,
   "metadata": {},
   "outputs": [
    {
     "name": "stdout",
     "output_type": "stream",
     "text": [
      "agnews AUC-ROC score: 0.702224\n"
     ]
    },
    {
     "data": {
      "image/png": "[encoded data removed]",
      "text/plain": [
       "<Figure size 640x480 with 1 Axes>"
      ]
     },
     "metadata": {},
     "output_type": "display_data"
    }
   ],
   "source": [
    "plot_roc_curve(y, y_prob)\n",
    "print(f'agnews AUC-ROC score: {roc_auc_score(y, y_prob)}')"
   ]
  }
 ],
 "metadata": {
  "kernelspec": {
   "display_name": "Python 3",
   "language": "python",
   "name": "python3"
  },
  "language_info": {
   "codemirror_mode": {
    "name": "ipython",
    "version": 3
   },
   "file_extension": ".py",
   "mimetype": "text/x-python",
   "name": "python",
   "nbconvert_exporter": "python",
   "pygments_lexer": "ipython3",
   "version": "3.8.10"
  }
 },
 "nbformat": 4,
 "nbformat_minor": 2
}
